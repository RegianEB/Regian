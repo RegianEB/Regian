{
 "cells": [
  {
   "cell_type": "code",
   "execution_count": 42,
   "metadata": {},
   "outputs": [
    {
     "name": "stdout",
     "output_type": "stream",
     "text": [
      "pilihan makanan\n",
      "Organic salad with jus\n"
     ]
    }
   ],
   "source": [
    "print('pilihan makanan:')\n",
    "sehat = True\n",
    "enak = True\n",
    "if sehat == True:\n",
    "    if enak == True:\n",
    "        print('Organic salad with jus')\n",
    "    else:\n",
    "        print('raw fruit and vegetable')\n",
    "else:\n",
    "    if enak == False:\n",
    "        print('makanan kurang bagus')\n",
    "    else:\n",
    "        print('junk food')\n",
    "\n",
    "    \n"
   ]
  }
 ],
 "metadata": {
  "kernelspec": {
   "display_name": "Python 3",
   "language": "python",
   "name": "python3"
  },
  "language_info": {
   "codemirror_mode": {
    "name": "ipython",
    "version": 3
   },
   "file_extension": ".py",
   "mimetype": "text/x-python",
   "name": "python",
   "nbconvert_exporter": "python",
   "pygments_lexer": "ipython3",
   "version": "3.7.4"
  }
 },
 "nbformat": 4,
 "nbformat_minor": 2
}
